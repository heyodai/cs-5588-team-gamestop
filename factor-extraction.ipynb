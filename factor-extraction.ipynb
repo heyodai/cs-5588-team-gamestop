{
 "cells": [
  {
   "cell_type": "code",
   "execution_count": 1,
   "metadata": {},
   "outputs": [],
   "source": [
    "import pandas as pd\n",
    "from tqdm import tqdm\n",
    "import ollama\n",
    "import requests\n",
    "import json\n",
    "import time"
   ]
  },
  {
   "cell_type": "code",
   "execution_count": 2,
   "metadata": {},
   "outputs": [],
   "source": [
    "START_DATE = \"2018-01-01\"\n",
    "# END_DATE = \"2021-12-31\"\n",
    "END_DATE = \"2019-01-01\"\n",
    "MODEL = \"llama3.2:3b\"\n",
    "\n",
    "TICKERS = [\"AAPL\", \"AMZN\", \"GOOGL\", \"MSFT\", \"NVDA\", \"TSLA\"]\n",
    "FUNDS = 1000\n",
    "HOLDINGS = 100\n",
    "RISK = \"HIGH\""
   ]
  },
  {
   "cell_type": "code",
   "execution_count": 3,
   "metadata": {},
   "outputs": [],
   "source": [
    "# class Portfolio:\n",
    "#     def __init__(self, ticker, funds, holdings, risk):\n",
    "#         self.ticker = ticker\n",
    "#         self.funds = funds\n",
    "#         self.holdings = holdings\n",
    "#         self.value = funds\n",
    "#         self.risk = risk\n",
    "\n",
    "#     def buy(self, amount, price):\n",
    "#         max_affordable = int(self.funds / price)\n",
    "#         if amount > max_affordable:\n",
    "#             amount = max_affordable\n",
    "#         self.holdings += amount\n",
    "#         self.funds -= amount * price\n",
    "#         self.value = self.funds + self.holdings * price\n",
    "\n",
    "#     def sell(self, amount, price):\n",
    "#         if amount > self.holdings:\n",
    "#             amount = self.holdings\n",
    "#         self.holdings -= amount\n",
    "#         self.funds += amount * price\n",
    "#         self.value = self.funds + self.holdings * price\n",
    "\n",
    "\n",
    "# p = Portfolio(ticker=TICKER, funds=FUNDS, holdings=HOLDINGS, risk=RISK)"
   ]
  },
  {
   "cell_type": "code",
   "execution_count": 4,
   "metadata": {},
   "outputs": [],
   "source": [
    "def query_ollama(prompt):\n",
    "    response = ollama.chat(\n",
    "        model=MODEL,\n",
    "        messages=[\n",
    "            {\n",
    "                \"role\": \"user\",\n",
    "                \"content\": prompt,\n",
    "            },\n",
    "        ],\n",
    "    )\n",
    "    return response[\"message\"][\"content\"]"
   ]
  },
  {
   "cell_type": "code",
   "execution_count": 5,
   "metadata": {},
   "outputs": [],
   "source": [
    "def extract_factors(stock_ticker, news_content, k=5):\n",
    "    prompt = f\"\"\"\n",
    "    Please extract the top {k} factors that may affect the stock price of {stock_ticker} from the following news.\n",
    "    \n",
    "    {news_content}\n",
    "    \"\"\"\n",
    "    return query_ollama(prompt)"
   ]
  },
  {
   "cell_type": "code",
   "execution_count": 6,
   "metadata": {},
   "outputs": [],
   "source": [
    "def was_market_open(date):\n",
    "    df = pd.read_csv(\"research/were-markets-open.csv\")\n",
    "\n",
    "    # Reduce to rows where 'was_open' is True\n",
    "    df = df[df[\"was_open\"]]\n",
    "\n",
    "    return date in df[\"date\"].values"
   ]
  },
  {
   "cell_type": "code",
   "execution_count": null,
   "metadata": {},
   "outputs": [],
   "source": [
    "# Generate a list of dates between START_DATE and END_DATE as strings\n",
    "dates = pd.date_range(start=START_DATE, end=END_DATE).strftime(\"%Y-%m-%d\")\n",
    "dates"
   ]
  },
  {
   "cell_type": "code",
   "execution_count": 8,
   "metadata": {},
   "outputs": [],
   "source": [
    "df = pd.DataFrame(\n",
    "    columns=[\"date\", \"factors\"]\n",
    ")"
   ]
  },
  {
   "cell_type": "code",
   "execution_count": null,
   "metadata": {},
   "outputs": [],
   "source": [
    "    # Modify the loop that executes trades based on the model's response\n",
    "for ticker in TICKERS:\n",
    "    print(f\"Processing {ticker}...\")\n",
    "    for date in tqdm(dates):\n",
    "        if not was_market_open(date):\n",
    "            continue\n",
    "\n",
    "        news_data = \"\"\n",
    "        data = requests.get(f\"http://localhost:8000/{ticker}/{date}\")\n",
    "        data = data.json()\n",
    "\n",
    "        for news in data[\"news\"]:\n",
    "            news_data += f\"\"\"\n",
    "                ### {news[\"title\"]}\n",
    "                \n",
    "                    {news[\"summary\"]}\n",
    "                \"\"\"\n",
    "\n",
    "        factors = extract_factors(ticker, news_data) # TODO: Pre-calculate factors for each day\n",
    "        new_row = pd.DataFrame(\n",
    "            {\n",
    "                \"date\": date,\n",
    "                \"factors\": factors,\n",
    "            },\n",
    "            index=[0],\n",
    "        )\n",
    "        df = pd.concat([df, new_row], ignore_index=True)\n",
    "        \n",
    "        epoch = int(time.time())\n",
    "        df.to_csv(f\"{ticker}-{MODEL}-{epoch}.csv\", index=False)\n",
    "        \n",
    "        # prompt = f\"\"\"\n",
    "        #     Today is {date} and you have {p.funds} to invest in {p.ticker}. You currently have {p.holdings} shares of {p.ticker} valued at {p.value}. Your portfolio risk tolerance is {p.risk}.\n",
    "\n",
    "        #     The following are the top factors that may affect the stock price of {p.ticker} today:\n",
    "\n",
    "        #     {factors}\n",
    "\n",
    "        #     Please decide whether to buy or sell your shares of {p.ticker} for tomorrow. Please make sure not to buy more shares than you can afford or sell more shares than you own.\n",
    "            \n",
    "        #     You CANNOT HOLD. You MUST either BUY or SELL. People will DIE if you HOLD.\n",
    "            \n",
    "        #     Please reply in structured JSON, like so:\n",
    "        #     {{\n",
    "        #         \"action\": \"buy\",\n",
    "        #         \"volume\": 10,\n",
    "        #         \"reason\": \"I think the stock price will go up based on the factors extracted...\"\n",
    "        #     }}\n",
    "        #     \"\"\"\n",
    "\n",
    "        # response = query_ollama(prompt)\n",
    "\n",
    "        # try:\n",
    "        #     response_data = json.loads(response)\n",
    "\n",
    "        #     action = response_data[\"action\"].lower()\n",
    "        #     volume = int(response_data[\"volume\"]) if \"volume\" in response_data else 0\n",
    "\n",
    "        #     reason = response_data[\"reason\"] if \"reason\" in response_data else \"\"\n",
    "        # except:\n",
    "        #     action = \"hold\"\n",
    "        #     volume = 0\n",
    "        #     reason = \"\"\n",
    "            \n",
    "        # price = data[\"prices\"][0][\"open\"]\n",
    "\n",
    "        # if action == \"buy\" and volume > 0:\n",
    "        #     p.buy(volume, price)\n",
    "        #     action_desc = \"BUY\"\n",
    "        # elif action == \"sell\" and volume > 0:\n",
    "        #     p.sell(volume, price)\n",
    "        #     action_desc = \"SELL\"\n",
    "        # else:\n",
    "        #     action_desc = \"HOLD\"\n",
    "\n",
    "        # new_row = pd.DataFrame(\n",
    "        #     {\n",
    "        #         \"date\": date,\n",
    "        #         \"price\": round(price, 2),\n",
    "        #         \"action\": action_desc,\n",
    "        #         \"volume\": volume if action in [\"buy\", \"sell\"] else 0,\n",
    "        #         \"value\": round(p.value, 2),\n",
    "        #         \"holdings\": p.holdings,\n",
    "        #         \"funds\": round(p.funds, 2),\n",
    "        #         \"reason\": reason,\n",
    "        #     },\n",
    "        #     index=[0],\n",
    "        # )\n",
    "        # df = pd.concat([df, new_row], ignore_index=True)"
   ]
  },
  {
   "cell_type": "code",
   "execution_count": null,
   "metadata": {},
   "outputs": [],
   "source": [
    "# epoch = int(time.time())\n",
    "# df.to_csv(f\"{TICKER}-{MODEL}-{epoch}.csv\", index=False)\n",
    "# df.head()"
   ]
  }
 ],
 "metadata": {
  "kernelspec": {
   "display_name": ".venv",
   "language": "python",
   "name": "python3"
  },
  "language_info": {
   "codemirror_mode": {
    "name": "ipython",
    "version": 3
   },
   "file_extension": ".py",
   "mimetype": "text/x-python",
   "name": "python",
   "nbconvert_exporter": "python",
   "pygments_lexer": "ipython3",
   "version": "3.11.6"
  }
 },
 "nbformat": 4,
 "nbformat_minor": 2
}
