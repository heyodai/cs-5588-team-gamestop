{
 "cells": [
  {
   "cell_type": "code",
   "execution_count": 1,
   "metadata": {},
   "outputs": [],
   "source": [
    "import pandas as pd\n",
    "from tqdm import tqdm\n",
    "import ollama\n",
    "import requests\n",
    "import json\n",
    "import time\n",
    "import os"
   ]
  },
  {
   "cell_type": "code",
   "execution_count": 2,
   "metadata": {},
   "outputs": [],
   "source": [
    "START_DATE = \"2018-01-01\"\n",
    "# END_DATE = \"2021-12-31\"\n",
    "END_DATE = \"2020-01-01\"\n",
    "MODEL = \"llama3.2:3b\"\n",
    "\n",
    "TICKERS = [\"AAPL\", \"AMZN\", \"GOOGL\", \"MSFT\", \"NVDA\", \"TSLA\"]\n",
    "FUNDS = 1000\n",
    "HOLDINGS = 100\n",
    "RISK = \"HIGH\""
   ]
  },
  {
   "cell_type": "code",
   "execution_count": 3,
   "metadata": {},
   "outputs": [],
   "source": [
    "def query_ollama(prompt):\n",
    "    response = ollama.chat(\n",
    "        model=MODEL,\n",
    "        messages=[\n",
    "            {\n",
    "                \"role\": \"user\",\n",
    "                \"content\": prompt,\n",
    "            },\n",
    "        ],\n",
    "    )\n",
    "    return response[\"message\"][\"content\"]"
   ]
  },
  {
   "cell_type": "code",
   "execution_count": 4,
   "metadata": {},
   "outputs": [],
   "source": [
    "def extract_factors(stock_ticker, news_content, k=5):\n",
    "    prompt = f\"\"\"\n",
    "    Please extract the top {k} factors that may affect the stock price of {stock_ticker} from the following news.\n",
    "    \n",
    "    {news_content}\n",
    "    \"\"\"\n",
    "    return query_ollama(prompt)"
   ]
  },
  {
   "cell_type": "code",
   "execution_count": 5,
   "metadata": {},
   "outputs": [],
   "source": [
    "def was_market_open(date):\n",
    "    df = pd.read_csv(\"research/were-markets-open.csv\")\n",
    "\n",
    "    # Reduce to rows where 'was_open' is True\n",
    "    df = df[df[\"was_open\"]]\n",
    "\n",
    "    return date in df[\"date\"].values"
   ]
  },
  {
   "cell_type": "code",
   "execution_count": 6,
   "metadata": {},
   "outputs": [
    {
     "data": {
      "text/plain": [
       "Index(['2018-01-01', '2018-01-02', '2018-01-03', '2018-01-04', '2018-01-05',\n",
       "       '2018-01-06', '2018-01-07', '2018-01-08', '2018-01-09', '2018-01-10',\n",
       "       ...\n",
       "       '2019-12-23', '2019-12-24', '2019-12-25', '2019-12-26', '2019-12-27',\n",
       "       '2019-12-28', '2019-12-29', '2019-12-30', '2019-12-31', '2020-01-01'],\n",
       "      dtype='object', length=731)"
      ]
     },
     "execution_count": 6,
     "metadata": {},
     "output_type": "execute_result"
    }
   ],
   "source": [
    "# Generate a list of dates between START_DATE and END_DATE as strings\n",
    "dates = pd.date_range(start=START_DATE, end=END_DATE).strftime(\"%Y-%m-%d\")\n",
    "dates"
   ]
  },
  {
   "cell_type": "code",
   "execution_count": 7,
   "metadata": {},
   "outputs": [],
   "source": [
    "df = pd.DataFrame(columns=[\"date\", \"factors\"])"
   ]
  },
  {
   "cell_type": "code",
   "execution_count": 8,
   "metadata": {},
   "outputs": [
    {
     "name": "stdout",
     "output_type": "stream",
     "text": [
      "Processing AAPL...\n"
     ]
    },
    {
     "name": "stderr",
     "output_type": "stream",
     "text": [
      "  0%|          | 0/731 [00:00<?, ?it/s]"
     ]
    },
    {
     "name": "stderr",
     "output_type": "stream",
     "text": [
      " 54%|█████▍    | 398/731 [00:00<00:00, 3975.71it/s]"
     ]
    }
   ],
   "source": [
    "# Modify the loop that executes trades based on the model's response\n",
    "for ticker in TICKERS:\n",
    "    print(f\"Processing {ticker}...\")\n",
    "    for date in tqdm(dates):\n",
    "        # Skip if the factors file already exists\n",
    "        if os.path.exists(f\"factors/{ticker}-{date}.md\"):\n",
    "            continue\n",
    "\n",
    "        # Ensure that the market was open on the given date\n",
    "        if not was_market_open(date):\n",
    "            continue\n",
    "\n",
    "        news_data = \"\"\n",
    "        try:\n",
    "            data = requests.get(f\"http://localhost:8000/{ticker}/{date}\")\n",
    "            data = data.json()\n",
    "        except:\n",
    "            # Formatting issue with the dataset\n",
    "            # Log offending ticker/date to a .txt file\n",
    "            with open(\"error.log\", \"a\") as f:\n",
    "                f.write(f\"{ticker}, {date}\\n\")\n",
    "\n",
    "            # TODO: Investigate why some JSON is malformed\n",
    "            # example: AAPL, 2019-04-11\n",
    "            continue\n",
    "\n",
    "        for news in data[\"news\"]:\n",
    "            news_data += f\"\"\"\n",
    "                ### {news[\"title\"]}\n",
    "                \n",
    "                    {news[\"summary\"]}\n",
    "                \"\"\"\n",
    "\n",
    "        factors = extract_factors(\n",
    "            ticker, news_data\n",
    "        )  # TODO: Pre-calculate factors for each day\n",
    "        with open(f\"factors/{ticker}-{date}.md\", \"w\") as f:\n",
    "            f.write(factors)"
   ]
  }
 ],
 "metadata": {
  "kernelspec": {
   "display_name": ".venv",
   "language": "python",
   "name": "python3"
  },
  "language_info": {
   "codemirror_mode": {
    "name": "ipython",
    "version": 3
   },
   "file_extension": ".py",
   "mimetype": "text/x-python",
   "name": "python",
   "nbconvert_exporter": "python",
   "pygments_lexer": "ipython3",
   "version": "3.12.2"
  }
 },
 "nbformat": 4,
 "nbformat_minor": 2
}
