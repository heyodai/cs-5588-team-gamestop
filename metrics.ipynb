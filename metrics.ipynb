{
 "cells": [
  {
   "cell_type": "markdown",
   "metadata": {},
   "source": [
    "### Calculate Error Metrics for Price Predictions\n",
    "\n",
    "After the simulation loop, calculate error metrics between the predicted and actual prices.\n"
   ]
  },
  {
   "cell_type": "code",
   "execution_count": 1,
   "metadata": {},
   "outputs": [],
   "source": [
    "from sklearn.metrics import mean_absolute_error, mean_squared_error\n",
    "import pandas as pd\n",
    "import numpy as np"
   ]
  },
  {
   "cell_type": "code",
   "execution_count": 2,
   "metadata": {},
   "outputs": [
    {
     "data": {
      "text/html": [
       "<div>\n",
       "<style scoped>\n",
       "    .dataframe tbody tr th:only-of-type {\n",
       "        vertical-align: middle;\n",
       "    }\n",
       "\n",
       "    .dataframe tbody tr th {\n",
       "        vertical-align: top;\n",
       "    }\n",
       "\n",
       "    .dataframe thead th {\n",
       "        text-align: right;\n",
       "    }\n",
       "</style>\n",
       "<table border=\"1\" class=\"dataframe\">\n",
       "  <thead>\n",
       "    <tr style=\"text-align: right;\">\n",
       "      <th></th>\n",
       "      <th>date</th>\n",
       "      <th>price</th>\n",
       "      <th>action</th>\n",
       "      <th>volume</th>\n",
       "      <th>value</th>\n",
       "      <th>holdings</th>\n",
       "      <th>funds</th>\n",
       "      <th>reason</th>\n",
       "      <th>predicted_price</th>\n",
       "      <th>actual_next_open_price</th>\n",
       "    </tr>\n",
       "  </thead>\n",
       "  <tbody>\n",
       "    <tr>\n",
       "      <th>0</th>\n",
       "      <td>2018-01-02</td>\n",
       "      <td>42.54</td>\n",
       "      <td>SELL</td>\n",
       "      <td>50</td>\n",
       "      <td>5254.00</td>\n",
       "      <td>50</td>\n",
       "      <td>3127.00</td>\n",
       "      <td>Given the LOW portfolio risk tolerance and the...</td>\n",
       "      <td>43.13</td>\n",
       "      <td>46.88</td>\n",
       "    </tr>\n",
       "    <tr>\n",
       "      <th>1</th>\n",
       "      <td>2018-01-03</td>\n",
       "      <td>43.13</td>\n",
       "      <td>SELL</td>\n",
       "      <td>2</td>\n",
       "      <td>5283.63</td>\n",
       "      <td>48</td>\n",
       "      <td>3213.27</td>\n",
       "      <td>Given the cautious market tone and the recent ...</td>\n",
       "      <td>43.13</td>\n",
       "      <td>39.60</td>\n",
       "    </tr>\n",
       "    <tr>\n",
       "      <th>2</th>\n",
       "      <td>2018-01-04</td>\n",
       "      <td>43.13</td>\n",
       "      <td>SELL</td>\n",
       "      <td>20</td>\n",
       "      <td>5283.74</td>\n",
       "      <td>28</td>\n",
       "      <td>4075.97</td>\n",
       "      <td>Given the recent security flaws in Intel chips...</td>\n",
       "      <td>43.36</td>\n",
       "      <td>39.17</td>\n",
       "    </tr>\n",
       "    <tr>\n",
       "      <th>3</th>\n",
       "      <td>2018-01-05</td>\n",
       "      <td>43.36</td>\n",
       "      <td>SELL</td>\n",
       "      <td>50</td>\n",
       "      <td>5290.05</td>\n",
       "      <td>0</td>\n",
       "      <td>5290.05</td>\n",
       "      <td>Given the potential risks posed by the Meltdow...</td>\n",
       "      <td>43.59</td>\n",
       "      <td>39.86</td>\n",
       "    </tr>\n",
       "    <tr>\n",
       "      <th>4</th>\n",
       "      <td>2018-01-08</td>\n",
       "      <td>43.59</td>\n",
       "      <td>BUY</td>\n",
       "      <td>1</td>\n",
       "      <td>5290.05</td>\n",
       "      <td>1</td>\n",
       "      <td>5246.46</td>\n",
       "      <td>Despite the concerns about phone addiction and...</td>\n",
       "      <td>43.64</td>\n",
       "      <td>43.27</td>\n",
       "    </tr>\n",
       "  </tbody>\n",
       "</table>\n",
       "</div>"
      ],
      "text/plain": [
       "         date  price action  volume    value  holdings    funds  \\\n",
       "0  2018-01-02  42.54   SELL      50  5254.00        50  3127.00   \n",
       "1  2018-01-03  43.13   SELL       2  5283.63        48  3213.27   \n",
       "2  2018-01-04  43.13   SELL      20  5283.74        28  4075.97   \n",
       "3  2018-01-05  43.36   SELL      50  5290.05         0  5290.05   \n",
       "4  2018-01-08  43.59    BUY       1  5290.05         1  5246.46   \n",
       "\n",
       "                                              reason  predicted_price  \\\n",
       "0  Given the LOW portfolio risk tolerance and the...            43.13   \n",
       "1  Given the cautious market tone and the recent ...            43.13   \n",
       "2  Given the recent security flaws in Intel chips...            43.36   \n",
       "3  Given the potential risks posed by the Meltdow...            43.59   \n",
       "4  Despite the concerns about phone addiction and...            43.64   \n",
       "\n",
       "   actual_next_open_price  \n",
       "0                   46.88  \n",
       "1                   39.60  \n",
       "2                   39.17  \n",
       "3                   39.86  \n",
       "4                   43.27  "
      ]
     },
     "execution_count": 2,
     "metadata": {},
     "output_type": "execute_result"
    }
   ],
   "source": [
    "# df = pd.read_csv(\"AAPL-llama3.2:3b-LOW-1729632420.csv\")\n",
    "df = pd.read_csv(\"AAPL-llama3.2:3b-LOW-1729635457.csv\")\n",
    "df.head()"
   ]
  },
  {
   "cell_type": "code",
   "execution_count": 3,
   "metadata": {},
   "outputs": [],
   "source": [
    "# Ensure that predicted and actual prices are numeric\n",
    "df[\"predicted_price\"] = pd.to_numeric(df[\"predicted_price\"], errors=\"coerce\")\n",
    "df[\"actual_next_open_price\"] = pd.to_numeric(\n",
    "    df[\"actual_next_open_price\"], errors=\"coerce\"\n",
    ")"
   ]
  },
  {
   "cell_type": "code",
   "execution_count": 4,
   "metadata": {},
   "outputs": [
    {
     "data": {
      "text/plain": [
       "((251, 10), (251, 10))"
      ]
     },
     "execution_count": 4,
     "metadata": {},
     "output_type": "execute_result"
    }
   ],
   "source": [
    "# Drop rows with NaN values in these columns\n",
    "df_clean = df.dropna(subset=[\"predicted_price\", \"actual_next_open_price\"])\n",
    "\n",
    "df.shape, df_clean.shape"
   ]
  },
  {
   "cell_type": "code",
   "execution_count": 5,
   "metadata": {},
   "outputs": [
    {
     "name": "stdout",
     "output_type": "stream",
     "text": [
      "Mean Absolute Error: 2.31199203187251\n",
      "Mean Squared Error: 7.417167729083667\n",
      "Root Mean Squared Error: 2.723447765073468\n",
      "Mean Absolute Percentage Error: 4.918454808732973\n"
     ]
    }
   ],
   "source": [
    "mae = mean_absolute_error(\n",
    "    df_clean[\"actual_next_open_price\"], df_clean[\"predicted_price\"]\n",
    ")\n",
    "mse = mean_squared_error(\n",
    "    df_clean[\"actual_next_open_price\"], df_clean[\"predicted_price\"]\n",
    ")\n",
    "rmse = np.sqrt(mse)\n",
    "mape = (\n",
    "    np.mean(\n",
    "        np.abs(\n",
    "            (df_clean[\"actual_next_open_price\"] - df_clean[\"predicted_price\"])\n",
    "            / df_clean[\"actual_next_open_price\"]\n",
    "        )\n",
    "    )\n",
    "    * 100\n",
    ")\n",
    "\n",
    "print(f\"Mean Absolute Error: {mae}\")\n",
    "print(f\"Mean Squared Error: {mse}\")\n",
    "print(f\"Root Mean Squared Error: {rmse}\")\n",
    "print(f\"Mean Absolute Percentage Error: {mape}\")"
   ]
  },
  {
   "cell_type": "markdown",
   "metadata": {},
   "source": [
    "### 3. Evaluate the Trading Strategy Performance\n",
    "\n",
    "Compare your portfolio's performance to a benchmark portfolio (e.g., one that buys and holds the stock throughout the period)."
   ]
  },
  {
   "cell_type": "code",
   "execution_count": 6,
   "metadata": {},
   "outputs": [
    {
     "data": {
      "text/html": [
       "<div>\n",
       "<style scoped>\n",
       "    .dataframe tbody tr th:only-of-type {\n",
       "        vertical-align: middle;\n",
       "    }\n",
       "\n",
       "    .dataframe tbody tr th {\n",
       "        vertical-align: top;\n",
       "    }\n",
       "\n",
       "    .dataframe thead th {\n",
       "        text-align: right;\n",
       "    }\n",
       "</style>\n",
       "<table border=\"1\" class=\"dataframe\">\n",
       "  <thead>\n",
       "    <tr style=\"text-align: right;\">\n",
       "      <th></th>\n",
       "      <th>date</th>\n",
       "      <th>price</th>\n",
       "      <th>action</th>\n",
       "      <th>volume</th>\n",
       "      <th>value</th>\n",
       "      <th>holdings</th>\n",
       "      <th>funds</th>\n",
       "      <th>reason</th>\n",
       "      <th>predicted_price</th>\n",
       "      <th>actual_next_open_price</th>\n",
       "      <th>portfolio_return</th>\n",
       "      <th>benchmark_value</th>\n",
       "      <th>benchmark_return</th>\n",
       "      <th>portfolio_cum_return</th>\n",
       "      <th>benchmark_cum_return</th>\n",
       "    </tr>\n",
       "  </thead>\n",
       "  <tbody>\n",
       "    <tr>\n",
       "      <th>0</th>\n",
       "      <td>2018-01-02</td>\n",
       "      <td>42.54</td>\n",
       "      <td>SELL</td>\n",
       "      <td>50</td>\n",
       "      <td>5254.00</td>\n",
       "      <td>50</td>\n",
       "      <td>3127.00</td>\n",
       "      <td>Given the LOW portfolio risk tolerance and the...</td>\n",
       "      <td>43.13</td>\n",
       "      <td>46.88</td>\n",
       "      <td>NaN</td>\n",
       "      <td>5254.000000</td>\n",
       "      <td>NaN</td>\n",
       "      <td>0.000000</td>\n",
       "      <td>0.000000</td>\n",
       "    </tr>\n",
       "    <tr>\n",
       "      <th>1</th>\n",
       "      <td>2018-01-03</td>\n",
       "      <td>43.13</td>\n",
       "      <td>SELL</td>\n",
       "      <td>2</td>\n",
       "      <td>5283.63</td>\n",
       "      <td>48</td>\n",
       "      <td>3213.27</td>\n",
       "      <td>Given the cautious market tone and the recent ...</td>\n",
       "      <td>43.13</td>\n",
       "      <td>39.60</td>\n",
       "      <td>0.005640</td>\n",
       "      <td>5326.869299</td>\n",
       "      <td>0.013869</td>\n",
       "      <td>0.005640</td>\n",
       "      <td>0.013869</td>\n",
       "    </tr>\n",
       "    <tr>\n",
       "      <th>2</th>\n",
       "      <td>2018-01-04</td>\n",
       "      <td>43.13</td>\n",
       "      <td>SELL</td>\n",
       "      <td>20</td>\n",
       "      <td>5283.74</td>\n",
       "      <td>28</td>\n",
       "      <td>4075.97</td>\n",
       "      <td>Given the recent security flaws in Intel chips...</td>\n",
       "      <td>43.36</td>\n",
       "      <td>39.17</td>\n",
       "      <td>0.000021</td>\n",
       "      <td>5326.869299</td>\n",
       "      <td>0.000000</td>\n",
       "      <td>0.005660</td>\n",
       "      <td>0.013869</td>\n",
       "    </tr>\n",
       "    <tr>\n",
       "      <th>3</th>\n",
       "      <td>2018-01-05</td>\n",
       "      <td>43.36</td>\n",
       "      <td>SELL</td>\n",
       "      <td>50</td>\n",
       "      <td>5290.05</td>\n",
       "      <td>0</td>\n",
       "      <td>5290.05</td>\n",
       "      <td>Given the potential risks posed by the Meltdow...</td>\n",
       "      <td>43.59</td>\n",
       "      <td>39.86</td>\n",
       "      <td>0.001194</td>\n",
       "      <td>5355.275976</td>\n",
       "      <td>0.005333</td>\n",
       "      <td>0.006861</td>\n",
       "      <td>0.019276</td>\n",
       "    </tr>\n",
       "    <tr>\n",
       "      <th>4</th>\n",
       "      <td>2018-01-08</td>\n",
       "      <td>43.59</td>\n",
       "      <td>BUY</td>\n",
       "      <td>1</td>\n",
       "      <td>5290.05</td>\n",
       "      <td>1</td>\n",
       "      <td>5246.46</td>\n",
       "      <td>Despite the concerns about phone addiction and...</td>\n",
       "      <td>43.64</td>\n",
       "      <td>43.27</td>\n",
       "      <td>0.000000</td>\n",
       "      <td>5383.682652</td>\n",
       "      <td>0.005304</td>\n",
       "      <td>0.006861</td>\n",
       "      <td>0.024683</td>\n",
       "    </tr>\n",
       "  </tbody>\n",
       "</table>\n",
       "</div>"
      ],
      "text/plain": [
       "         date  price action  volume    value  holdings    funds  \\\n",
       "0  2018-01-02  42.54   SELL      50  5254.00        50  3127.00   \n",
       "1  2018-01-03  43.13   SELL       2  5283.63        48  3213.27   \n",
       "2  2018-01-04  43.13   SELL      20  5283.74        28  4075.97   \n",
       "3  2018-01-05  43.36   SELL      50  5290.05         0  5290.05   \n",
       "4  2018-01-08  43.59    BUY       1  5290.05         1  5246.46   \n",
       "\n",
       "                                              reason  predicted_price  \\\n",
       "0  Given the LOW portfolio risk tolerance and the...            43.13   \n",
       "1  Given the cautious market tone and the recent ...            43.13   \n",
       "2  Given the recent security flaws in Intel chips...            43.36   \n",
       "3  Given the potential risks posed by the Meltdow...            43.59   \n",
       "4  Despite the concerns about phone addiction and...            43.64   \n",
       "\n",
       "   actual_next_open_price  portfolio_return  benchmark_value  \\\n",
       "0                   46.88               NaN      5254.000000   \n",
       "1                   39.60          0.005640      5326.869299   \n",
       "2                   39.17          0.000021      5326.869299   \n",
       "3                   39.86          0.001194      5355.275976   \n",
       "4                   43.27          0.000000      5383.682652   \n",
       "\n",
       "   benchmark_return  portfolio_cum_return  benchmark_cum_return  \n",
       "0               NaN              0.000000              0.000000  \n",
       "1          0.013869              0.005640              0.013869  \n",
       "2          0.000000              0.005660              0.013869  \n",
       "3          0.005333              0.006861              0.019276  \n",
       "4          0.005304              0.006861              0.024683  "
      ]
     },
     "execution_count": 6,
     "metadata": {},
     "output_type": "execute_result"
    }
   ],
   "source": [
    "# Calculate daily returns for your portfolio\n",
    "df[\"portfolio_return\"] = df[\"value\"].pct_change()\n",
    "\n",
    "# Create a benchmark portfolio (buy and hold)\n",
    "funds, holdings = 1000, 100\n",
    "initial_investment = funds + holdings * df.iloc[0][\"price\"]\n",
    "df[\"benchmark_value\"] = initial_investment * (df[\"price\"] / df.iloc[0][\"price\"])\n",
    "df[\"benchmark_return\"] = df[\"benchmark_value\"].pct_change()\n",
    "\n",
    "# Calculate cumulative returns\n",
    "df[\"portfolio_cum_return\"] = (1 + df[\"portfolio_return\"].fillna(0)).cumprod() - 1\n",
    "df[\"benchmark_cum_return\"] = (1 + df[\"benchmark_return\"].fillna(0)).cumprod() - 1\n",
    "\n",
    "df.head()"
   ]
  },
  {
   "cell_type": "code",
   "execution_count": 7,
   "metadata": {},
   "outputs": [],
   "source": [
    "# Total returns\n",
    "total_portfolio_return = df[\"portfolio_cum_return\"].iloc[-1]\n",
    "total_benchmark_return = df[\"benchmark_cum_return\"].iloc[-1]"
   ]
  },
  {
   "cell_type": "code",
   "execution_count": 8,
   "metadata": {},
   "outputs": [],
   "source": [
    "# Annualized returns\n",
    "num_years = (\n",
    "    pd.to_datetime(df[\"date\"].iloc[-1]) - pd.to_datetime(df[\"date\"].iloc[0])\n",
    ").days / 365.25\n",
    "annualized_portfolio_return = (1 + total_portfolio_return) ** (1 / num_years) - 1\n",
    "annualized_benchmark_return = (1 + total_benchmark_return) ** (1 / num_years) - 1\n",
    "\n",
    "# Volatility (Standard Deviation of returns)\n",
    "portfolio_volatility = df[\"portfolio_return\"].std() * np.sqrt(252)\n",
    "benchmark_volatility = df[\"benchmark_return\"].std() * np.sqrt(252)\n",
    "\n",
    "# Sharpe Ratio (Assuming risk-free rate is zero)\n",
    "portfolio_sharpe = (\n",
    "    df[\"portfolio_return\"].mean() / df[\"portfolio_return\"].std()\n",
    ") * np.sqrt(252)\n",
    "benchmark_sharpe = (\n",
    "    df[\"benchmark_return\"].mean() / df[\"benchmark_return\"].std()\n",
    ") * np.sqrt(252)"
   ]
  },
  {
   "cell_type": "code",
   "execution_count": 9,
   "metadata": {},
   "outputs": [
    {
     "name": "stdout",
     "output_type": "stream",
     "text": [
      "Total Portfolio Return: 0.18\n",
      "Total Benchmark Return: -0.07\n",
      "Annualized Portfolio Return: 0.18\n",
      "Annualized Benchmark Return: -0.07\n",
      "Portfolio Volatility: 0.23\n",
      "Benchmark Volatility: 0.29\n",
      "Portfolio Sharpe Ratio: 0.83\n",
      "Benchmark Sharpe Ratio: -0.10\n"
     ]
    }
   ],
   "source": [
    "# Print the results\n",
    "print(f\"Total Portfolio Return: {total_portfolio_return:.2f}\")\n",
    "print(f\"Total Benchmark Return: {total_benchmark_return:.2f}\")\n",
    "print(f\"Annualized Portfolio Return: {annualized_portfolio_return:.2f}\")\n",
    "print(f\"Annualized Benchmark Return: {annualized_benchmark_return:.2f}\")\n",
    "print(f\"Portfolio Volatility: {portfolio_volatility:.2f}\")\n",
    "print(f\"Benchmark Volatility: {benchmark_volatility:.2f}\")\n",
    "print(f\"Portfolio Sharpe Ratio: {portfolio_sharpe:.2f}\")\n",
    "print(f\"Benchmark Sharpe Ratio: {benchmark_sharpe:.2f}\")"
   ]
  },
  {
   "cell_type": "code",
   "execution_count": 13,
   "metadata": {},
   "outputs": [
    {
     "data": {
      "image/png": "[encoded data removed]",
      "text/plain": [
       "<Figure size 1200x600 with 1 Axes>"
      ]
     },
     "metadata": {},
     "output_type": "display_data"
    }
   ],
   "source": [
    "# Plot the portfolio and benchmark returns\n",
    "import matplotlib.pyplot as plt\n",
    "\n",
    "plt.figure(figsize=(12, 6))\n",
    "plt.plot(df[\"date\"], df[\"portfolio_cum_return\"], label=\"Portfolio\")\n",
    "plt.plot(df[\"date\"], df[\"benchmark_cum_return\"], label=\"Benchmark\")\n",
    "plt.xlabel(\"Date\")\n",
    "plt.ylabel(\"Cumulative Return\")\n",
    "plt.title(\"Predictions vs Actuals - $AAPL\")\n",
    "plt.legend()\n",
    "plt.show()"
   ]
  },
  {
   "cell_type": "markdown",
   "metadata": {},
   "source": [
    "\n",
    "### 5. Additional Considerations\n",
    "\n",
    "Calculate the maximum drawdown to assess the risk of your trading strategy.\n"
   ]
  },
  {
   "cell_type": "code",
   "execution_count": 11,
   "metadata": {},
   "outputs": [
    {
     "name": "stdout",
     "output_type": "stream",
     "text": [
      "Max Drawdown: -0.21\n"
     ]
    }
   ],
   "source": [
    " # Calculate running maximum\n",
    "df['running_max'] = df['value'].cummax()\n",
    "df['drawdown'] = (df['value'] - df['running_max']) / df['running_max']\n",
    "max_drawdown = df['drawdown'].min()\n",
    "print(f\"Max Drawdown: {max_drawdown:.2f}\")"
   ]
  }
 ],
 "metadata": {
  "kernelspec": {
   "display_name": ".venv",
   "language": "python",
   "name": "python3"
  },
  "language_info": {
   "codemirror_mode": {
    "name": "ipython",
    "version": 3
   },
   "file_extension": ".py",
   "mimetype": "text/x-python",
   "name": "python",
   "nbconvert_exporter": "python",
   "pygments_lexer": "ipython3",
   "version": "3.11.6"
  }
 },
 "nbformat": 4,
 "nbformat_minor": 2
}
