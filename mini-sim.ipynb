{
 "cells": [
  {
   "cell_type": "code",
   "execution_count": 1,
   "metadata": {},
   "outputs": [],
   "source": [
    "import pandas as pd\n",
    "from tqdm import tqdm\n",
    "import ollama\n",
    "import requests\n",
    "import json\n",
    "import time"
   ]
  },
  {
   "cell_type": "code",
   "execution_count": 2,
   "metadata": {},
   "outputs": [],
   "source": [
    "START_DATE = \"2018-01-01\"\n",
    "END_DATE = \"2021-12-31\"\n",
    "MODEL = \"llama3.2:3b\""
   ]
  },
  {
   "cell_type": "code",
   "execution_count": 3,
   "metadata": {},
   "outputs": [],
   "source": [
    "class Portfolio:\n",
    "    def __init__(self, ticker, funds, holdings, risk):\n",
    "        self.ticker = ticker\n",
    "        self.funds = funds\n",
    "        self.holdings = holdings\n",
    "        self.value = funds\n",
    "        self.risk = risk\n",
    "        # self.history = []\n",
    "\n",
    "    def buy(self, amount, price):\n",
    "        self.holdings += amount\n",
    "        self.funds -= amount\n",
    "        self.value = self.funds + self.holdings * price\n",
    "\n",
    "    def sell(self, amount, price):\n",
    "        self.holdings -= amount\n",
    "        self.funds += amount\n",
    "        self.value = self.funds + self.holdings * price\n",
    "\n",
    "\n",
    "p = Portfolio(ticker=\"AAPL\", funds=1000, holdings=100, risk=\"HIGH\")"
   ]
  },
  {
   "cell_type": "code",
   "execution_count": 4,
   "metadata": {},
   "outputs": [],
   "source": [
    "def query_ollama(prompt):\n",
    "    response = ollama.chat(\n",
    "        model=MODEL,\n",
    "        messages=[\n",
    "            {\n",
    "                \"role\": \"user\",\n",
    "                \"content\": prompt,\n",
    "            },\n",
    "        ],\n",
    "    )\n",
    "    return response[\"message\"][\"content\"]"
   ]
  },
  {
   "cell_type": "code",
   "execution_count": 5,
   "metadata": {},
   "outputs": [],
   "source": [
    "def extract_factors(stock_ticker, news_content, k=5):\n",
    "    prompt = f\"\"\"\n",
    "    Please extract the top {k} factors that may affect the stock price of {stock_ticker} from the following news.\n",
    "    \n",
    "    {news_content}\n",
    "    \"\"\"\n",
    "    return query_ollama(prompt)"
   ]
  },
  {
   "cell_type": "code",
   "execution_count": 6,
   "metadata": {},
   "outputs": [],
   "source": [
    "def was_market_open(date):\n",
    "    df = pd.read_csv(\"research/were-markets-open.csv\")\n",
    "\n",
    "    # Reduce to rows where 'was_open' is True\n",
    "    df = df[df[\"was_open\"]]\n",
    "\n",
    "    return date in df[\"date\"].values"
   ]
  },
  {
   "cell_type": "code",
   "execution_count": 7,
   "metadata": {},
   "outputs": [
    {
     "data": {
      "text/plain": [
       "Index(['2018-01-01', '2018-01-02', '2018-01-03', '2018-01-04', '2018-01-05',\n",
       "       '2018-01-06', '2018-01-07', '2018-01-08', '2018-01-09', '2018-01-10',\n",
       "       ...\n",
       "       '2021-12-22', '2021-12-23', '2021-12-24', '2021-12-25', '2021-12-26',\n",
       "       '2021-12-27', '2021-12-28', '2021-12-29', '2021-12-30', '2021-12-31'],\n",
       "      dtype='object', length=1461)"
      ]
     },
     "execution_count": 7,
     "metadata": {},
     "output_type": "execute_result"
    }
   ],
   "source": [
    "# Generate a list of dates between START_DATE and END_DATE as strings\n",
    "dates = pd.date_range(start=START_DATE, end=END_DATE).strftime(\"%Y-%m-%d\")\n",
    "dates"
   ]
  },
  {
   "cell_type": "code",
   "execution_count": 8,
   "metadata": {},
   "outputs": [],
   "source": [
    "df = pd.DataFrame(\n",
    "    columns=[\"date\", \"price\", \"action\", \"volume\", \"value\", \"funds\", \"reason\"]\n",
    ")"
   ]
  },
  {
   "cell_type": "code",
   "execution_count": null,
   "metadata": {},
   "outputs": [
    {
     "name": "stderr",
     "output_type": "stream",
     "text": [
      "  0%|          | 0/1461 [00:00<?, ?it/s]/var/folders/d4/ggny_vpn0nv4f9ys1m85vyv80000gn/T/ipykernel_77181/1933887181.py:87: FutureWarning: The behavior of DataFrame concatenation with empty or all-NA entries is deprecated. In a future version, this will no longer exclude empty or all-NA columns when determining the result dtypes. To retain the old behavior, exclude the relevant entries before the concat operation.\n",
      "  df = pd.concat([df, new_row], ignore_index=True)\n",
      "  2%|▏         | 24/1461 [09:21<9:44:49, 24.42s/it] "
     ]
    }
   ],
   "source": [
    "\n",
    "for date in tqdm(dates):\n",
    "    # Skip if the market was not open on that date\n",
    "    if not was_market_open(date):\n",
    "        continue\n",
    "\n",
    "    news_data = \"\"\n",
    "    data = requests.get(f\"http://localhost:8000/AAPL/{date}\")\n",
    "    data = data.json()\n",
    "\n",
    "    for news in data[\"news\"]:\n",
    "        news_data += f\"\"\"\n",
    "            ### {news[\"title\"]}\n",
    "            \n",
    "                {news[\"summary\"]}\n",
    "            \"\"\"\n",
    "\n",
    "    factors = extract_factors(p.ticker, news_data)\n",
    "    # print(factor)\n",
    "\n",
    "    prompt = f\"\"\"\n",
    "        Today is {date} and you have {p.funds} to invest in {p.ticker}. You currently have {p.holdings} shares of {p.ticker} valued at {p.value}. Your portfolio risk tolerance is {p.risk}.\n",
    "\n",
    "        The following are the top factors that may affect the stock price of {p.ticker} today:\n",
    "\n",
    "        {factors}\n",
    "\n",
    "        Please decide whether to buy or sell your shares of {p.ticker} for tomorrow. Holding is NOT an option. Please make sure not to buy more shares than you can afford or sell more shares than you own.\n",
    "        \n",
    "        Please reply in structured JSON, like so:\n",
    "        {{\n",
    "            \"action\": \"buy\",\n",
    "            \"volume\": 10,\n",
    "            \"reason\": \"I think the stock price will go up based on the factors extracted...\"\n",
    "        }}\n",
    "        \"\"\"\n",
    "\n",
    "    response = query_ollama(prompt)\n",
    "    # print(response)\n",
    "\n",
    "    # Update portfolio and dataframe based on response\n",
    "    # Parse the response from the model\n",
    "    try:\n",
    "        response_data = json.loads(response)  # Assuming response is a JSON string\n",
    "\n",
    "        action = response_data[\"action\"].lower()\n",
    "        volume = int(response_data[\"volume\"]) if \"volume\" in response_data else 0\n",
    "\n",
    "        reason = response_data[\"reason\"] if \"reason\" in response_data else \"\"\n",
    "    except:  # model was naughty!\n",
    "        action = \"hold\"\n",
    "        volume = 0\n",
    "        reason = \"\"\n",
    "\n",
    "    # Get the stock price for the day, assuming you have a way to retrieve this\n",
    "    # Here I'll use a mock price, but you should replace this with actual data retrieval\n",
    "    price = data[\"prices\"][0][\"open\"]  # Mock price, replace with actual retrieval logic\n",
    "\n",
    "    # Perform action based on the model's decision\n",
    "    if action == \"buy\" and volume > 0:\n",
    "        if p.funds >= volume * price:\n",
    "            p.buy(volume, price)\n",
    "            action_desc = \"BUY\"\n",
    "        else:\n",
    "            action_desc = \"BUY - Insufficient funds\"\n",
    "    elif action == \"sell\" and volume > 0:\n",
    "        if p.holdings >= volume:\n",
    "            p.sell(volume, price)\n",
    "            action_desc = f\"SELL\"\n",
    "        else:\n",
    "            action_desc = \"SELL - Insufficient holdings\"\n",
    "    else:\n",
    "        action_desc = \"HOLD\"\n",
    "\n",
    "    # Record transaction details in the dataframe\n",
    "    new_row = pd.DataFrame(\n",
    "        {\n",
    "            \"date\": date,\n",
    "            \"price\": round(price, 2),\n",
    "            \"action\": action_desc,\n",
    "            \"volume\": volume if action in [\"buy\", \"sell\"] else 0,\n",
    "            \"value\": round(p.value, 2),\n",
    "            \"funds\": p.funds,\n",
    "            \"reason\": reason,\n",
    "        },\n",
    "        index=[0],\n",
    "    )\n",
    "    df = pd.concat([df, new_row], ignore_index=True)"
   ]
  },
  {
   "cell_type": "code",
   "execution_count": null,
   "metadata": {},
   "outputs": [],
   "source": [
    "import time\n",
    "\n",
    "epoch = int(time.time())\n",
    "\n",
    "df.to_csv(f\"{epoch}.csv\", index=False)\n",
    "df.head()"
   ]
  }
 ],
 "metadata": {
  "kernelspec": {
   "display_name": ".venv",
   "language": "python",
   "name": "python3"
  },
  "language_info": {
   "codemirror_mode": {
    "name": "ipython",
    "version": 3
   },
   "file_extension": ".py",
   "mimetype": "text/x-python",
   "name": "python",
   "nbconvert_exporter": "python",
   "pygments_lexer": "ipython3",
   "version": "3.11.6"
  }
 },
 "nbformat": 4,
 "nbformat_minor": 2
}
