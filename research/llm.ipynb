{
 "cells": [
  {
   "cell_type": "code",
   "execution_count": null,
   "metadata": {},
   "outputs": [],
   "source": [
    "from string import Template\n",
    "import ollama\n",
    "\n",
    "# # Local imports\n",
    "# from market import Market\n",
    "# from portfolio import Portfolio"
   ]
  },
  {
   "cell_type": "code",
   "execution_count": 21,
   "metadata": {},
   "outputs": [],
   "source": [
    "DATASET_FP = \"/Users/odai/repos/cs-5588-team-gamestop/datasets/CMIN-US\"\n",
    "STARTING_FUNDS = 10_000  # USD\n",
    "LLM_MODEL = \"llama3.2:3b\"\n",
    "\n",
    "DATE = \"2021-01-01\""
   ]
  },
  {
   "cell_type": "code",
   "execution_count": null,
   "metadata": {},
   "outputs": [],
   "source": [
    "class LanguageModel:\n",
    "    def __init__(self, model_name, template_fp):\n",
    "        self.model = model_name\n",
    "        with open(template_fp, \"r\") as f:\n",
    "            self.prompt_template = Template(f.read())\n",
    "\n",
    "    def get_prompt(\n",
    "        self, date, market_json, funds, portfolio_makeup, market_factors, world_factors\n",
    "    ):\n",
    "        return self.prompt_template.substitute(\n",
    "            date=date,\n",
    "            market_json=market_json,  # TODO: Add statistical model inputs\n",
    "            funds=funds,\n",
    "            portfolio=portfolio_makeup,\n",
    "            market_factors=\"\",  # TODO: Add market factors\n",
    "            world_factors=\"\",  # TODO: Add world factors\n",
    "        )\n",
    "        \n",
    "    def execute_prompt(self, prompt):\n",
    "        response = ollama.chat(\n",
    "            model=self.model,\n",
    "            messages=[\n",
    "                {\n",
    "                    \"role\": \"user\",\n",
    "                    \"content\": prompt,\n",
    "                },\n",
    "            ],\n",
    "        )\n",
    "        \n",
    "        return response[\"message\"][\"content\"]"
   ]
  },
  {
   "cell_type": "code",
   "execution_count": null,
   "metadata": {},
   "outputs": [
    {
     "name": "stdout",
     "output_type": "stream",
     "text": [
      "Here are my decisions to buy or sell each stock in the portfolio:\n",
      "\n",
      "{\n",
      "    \"AAPL\": {\n",
      "        \"ticker\": \"AAPL\",\n",
      "        \"action\": \"sell\",\n",
      "        \"volume\": 0,\n",
      "        \"reason\": \"The news mentions that Peter Cecchini, founder and CEO of AlphaOmega Advisors, thinks that the Federal Reserve's efficacy is limited, which may limit multiple expansion and drive down stock prices.\"\n",
      "    },\n",
      "    \"JNJ\": {\n",
      "        \"ticker\": \"JNJ\",\n",
      "        \"action\": \"buy\",\n",
      "        \"volume\": 20,\n",
      "        \"reason\": \"The news mentions that Johnson & Johnson (NYSE: JNJ) is a household name with over 130 years in business, indicating stability and reliability, which could attract investors looking for income-yielding stocks.\"\n",
      "    },\n",
      "    \"CVX\": {\n",
      "        \"ticker\": \"CVX\",\n",
      "        \"action\": \"buy\",\n",
      "        \"volume\": 15,\n",
      "        \"reason\": \"The news mentions that energy pipeline companies are a top yield play for 2021, and CVX is an energy company, indicating potential growth in the sector.\"\n",
      "    },\n",
      "    \"BAC\": {\n",
      "        \"ticker\": \"BAC\",\n",
      "        \"action\": \"buy\",\n",
      "        \"volume\": 25,\n",
      "        \"reason\": \"The news mentions that Barron’s Best Income Investments for 2021 includes energy pipeline companies and dividend stocks, and BAC is a bank that could benefit from this trend.\"\n",
      "    },\n",
      "    \"WMT\": {\n",
      "        \"ticker\": \"WMT\",\n",
      "        \"action\": \"buy\",\n",
      "        \"volume\": 30,\n",
      "        \"reason\": \"The news mentions that Walmart (NYSE: WMT) was a pandemic winner and its same-store sales and digital growth will continue to be in the spotlight, indicating potential for long-term growth.\"\n",
      "    }\n",
      "}\n",
      "\n",
      "I'm selling 10% of AAPL because of Peter Cecchini's comments on the Federal Reserve's efficacy limiting multiple expansion. I'm buying JNJ, CVX, BAC, and WMT because they are mentioned as yield plays or have potential for long-term growth in their respective sectors.\n"
     ]
    }
   ],
   "source": [
    "# market = Market(DATASET_FP)\n",
    "# portfolio = Portfolio()\n",
    "# portfolio.add_funds(STARTING_FUNDS)\n",
    "\n",
    "# llm = LanguageModel(LLM_MODEL)\n",
    "# prompt = llm.get_prompt(\n",
    "#     DATE,\n",
    "#     market.get_info(date=DATE),\n",
    "#     portfolio.funds,\n",
    "#     portfolio.get_makeup(),\n",
    "#     market_factors=None,\n",
    "#     world_factors=None,\n",
    "# )\n",
    "\n",
    "# resp = llm.execute_prompt(prompt)\n",
    "# print(resp)"
   ]
  }
 ],
 "metadata": {
  "kernelspec": {
   "display_name": ".venv",
   "language": "python",
   "name": "python3"
  },
  "language_info": {
   "codemirror_mode": {
    "name": "ipython",
    "version": 3
   },
   "file_extension": ".py",
   "mimetype": "text/x-python",
   "name": "python",
   "nbconvert_exporter": "python",
   "pygments_lexer": "ipython3",
   "version": "3.11.6"
  }
 },
 "nbformat": 4,
 "nbformat_minor": 2
}
