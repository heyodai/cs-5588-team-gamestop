{
 "cells": [
  {
   "cell_type": "code",
   "execution_count": 1,
   "metadata": {},
   "outputs": [],
   "source": [
    "import json"
   ]
  },
  {
   "cell_type": "code",
   "execution_count": 2,
   "metadata": {},
   "outputs": [],
   "source": [
    "class PortfolioStock:\n",
    "    def __init__(self, ticker, value):\n",
    "        self.ticker = ticker\n",
    "        self.value = value\n",
    "        self.amount = 0\n",
    "\n",
    "    def buy(self, amount):\n",
    "        self.amount += amount\n",
    "        \n",
    "    def sell(self, amount):\n",
    "        self.amount -= amount\n",
    "        \n",
    "    def update(self, value):\n",
    "        self.value = value"
   ]
  },
  {
   "cell_type": "code",
   "execution_count": 3,
   "metadata": {},
   "outputs": [],
   "source": [
    "class Portfolio:\n",
    "    def __init__(self):\n",
    "        self.funds = 0  # Total available funds for buying stocks\n",
    "        self.stocks = {}  # Dictionary to hold PortfolioStock objects for each ticker\n",
    "    \n",
    "    def add_funds(self, amount):\n",
    "        \"\"\"Adds funds to the portfolio.\"\"\"\n",
    "        self.funds += amount\n",
    "\n",
    "    def buy_stock(self, ticker, amount, stock_value):\n",
    "        \"\"\"Buys a specified amount of stock if funds are sufficient.\"\"\"\n",
    "        total_cost = amount * stock_value\n",
    "        if total_cost > self.funds:\n",
    "            print(\"Insufficient funds.\")\n",
    "            return\n",
    "        \n",
    "        # Deduct funds\n",
    "        self.funds -= total_cost\n",
    "        \n",
    "        # Add the stock to the portfolio or increase the amount if it already exists\n",
    "        if ticker in self.stocks:\n",
    "            self.stocks[ticker].buy(amount)\n",
    "        else:\n",
    "            stock = PortfolioStock(ticker, stock_value)\n",
    "            stock.buy(amount)\n",
    "            self.stocks[ticker] = stock\n",
    "\n",
    "    def sell_stock(self, ticker, amount):\n",
    "        \"\"\"Sells a specified amount of stock if the stock is held in the portfolio.\"\"\"\n",
    "        if ticker not in self.stocks:\n",
    "            print(f\"No holdings in {ticker} to sell.\")\n",
    "            return\n",
    "        stock = self.stocks[ticker]\n",
    "        \n",
    "        if amount > stock.amount:\n",
    "            print(\"Insufficient shares to sell.\")\n",
    "            return\n",
    "        \n",
    "        # Calculate sale proceeds and update funds\n",
    "        sale_proceeds = amount * stock.value\n",
    "        self.funds += sale_proceeds\n",
    "        stock.sell(amount)\n",
    "        \n",
    "        # Remove stock if no shares are left\n",
    "        if stock.amount == 0:\n",
    "            del self.stocks[ticker]\n",
    "\n",
    "    def update_stock_value(self, ticker, new_value):\n",
    "        \"\"\"Updates the value of a specific stock.\"\"\"\n",
    "        if ticker in self.stocks:\n",
    "            self.stocks[ticker].update(new_value)\n",
    "        else:\n",
    "            print(f\"{ticker} is not in the portfolio.\")\n",
    "            \n",
    "    def get_makeup(self):\n",
    "        \"\"\"Returns the portfolio's stock composition as a JSON string.\"\"\"\n",
    "        portfolio_data = {\n",
    "            ticker: {\"amount\": stock.amount, \"value\": stock.value}\n",
    "            for ticker, stock in self.stocks.items()\n",
    "        }\n",
    "        return json.dumps(portfolio_data, indent=2)\n",
    "    \n",
    "    def get_value(self):\n",
    "        \"\"\"Calculates the total value of the portfolio (cash + stocks).\"\"\"\n",
    "        total_stock_value = sum(stock.amount * stock.value for stock in self.stocks.values())\n",
    "        return self.funds + total_stock_value\n"
   ]
  },
  {
   "cell_type": "code",
   "execution_count": 4,
   "metadata": {},
   "outputs": [
    {
     "name": "stdout",
     "output_type": "stream",
     "text": [
      "Insufficient funds.\n",
      "{\n",
      "  \"AAPL\": {\n",
      "    \"amount\": 10,\n",
      "    \"value\": 10\n",
      "  }\n",
      "}\n"
     ]
    }
   ],
   "source": [
    "portfolio = Portfolio()\n",
    "portfolio.add_funds(1000)\n",
    "portfolio.buy_stock(\"AAPL\", 10, 10)\n",
    "portfolio.buy_stock(\"GOOGL\", 5, 1200)\n",
    "\n",
    "print(portfolio.get_makeup())"
   ]
  }
 ],
 "metadata": {
  "kernelspec": {
   "display_name": ".venv",
   "language": "python",
   "name": "python3"
  },
  "language_info": {
   "codemirror_mode": {
    "name": "ipython",
    "version": 3
   },
   "file_extension": ".py",
   "mimetype": "text/x-python",
   "name": "python",
   "nbconvert_exporter": "python",
   "pygments_lexer": "ipython3",
   "version": "3.11.6"
  }
 },
 "nbformat": 4,
 "nbformat_minor": 2
}
