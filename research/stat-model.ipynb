{
 "cells": [
  {
   "cell_type": "code",
   "execution_count": 1,
   "metadata": {},
   "outputs": [],
   "source": [
    "import pandas as pd\n",
    "import numpy as np\n",
    "import yfinance as yf\n",
    "from sklearn.svm import SVR\n",
    "from sklearn.preprocessing import StandardScaler\n",
    "from sklearn.pipeline import Pipeline\n",
    "from sklearn.metrics import mean_squared_error\n",
    "from sklearn.model_selection import TimeSeriesSplit"
   ]
  },
  {
   "cell_type": "code",
   "execution_count": 2,
   "metadata": {},
   "outputs": [],
   "source": [
    "# Function to fetch data from yfinance\n",
    "def fetch_data(ticker, start_date, end_date):\n",
    "    data = yf.download(ticker, start=start_date, end=end_date)\n",
    "    data.index = data.index.tz_localize(None)\n",
    "    \n",
    "    if data.empty:\n",
    "        raise ValueError(\n",
    "            \"No data returned. Please check the ticker symbol and date range.\"\n",
    "        )\n",
    "    return data"
   ]
  },
  {
   "cell_type": "code",
   "execution_count": 3,
   "metadata": {},
   "outputs": [],
   "source": [
    "# Function to create features similar to your posted code\n",
    "def create_features(data):\n",
    "    # Moving Averages with Lagging\n",
    "    data[\"MA5\"] = data[\"Close\"].rolling(window=5).mean().shift(1)\n",
    "    data[\"MA10\"] = data[\"Close\"].rolling(window=10).mean().shift(1)\n",
    "    data[\"MA20\"] = data[\"Close\"].rolling(window=20).mean().shift(1)\n",
    "    data[\"MA50\"] = data[\"Close\"].rolling(window=50).mean().shift(1)\n",
    "\n",
    "    # Momentum and Volatility\n",
    "    data[\"Momentum\"] = data[\"Close\"].diff().shift(1)\n",
    "    data[\"Volatility\"] = data[\"Close\"].pct_change().rolling(window=20).std().shift(1)\n",
    "\n",
    "    # MACD\n",
    "    data[\"EMA12\"] = data[\"Close\"].ewm(span=12, adjust=False).mean().shift(1)\n",
    "    data[\"EMA26\"] = data[\"Close\"].ewm(span=26, adjust=False).mean().shift(1)\n",
    "    data[\"MACD\"] = (data[\"EMA12\"] - data[\"EMA26\"]).shift(1)\n",
    "\n",
    "    # Lagged values for Close\n",
    "    for lag in range(1, 6):\n",
    "        data[f\"Close_Lag{lag}\"] = data[\"Close\"].shift(lag)\n",
    "\n",
    "    # Bollinger Bands\n",
    "    data[\"Rolling_Mean_7\"] = data[\"Close\"].rolling(window=7).mean().shift(1)\n",
    "    data[\"Rolling_Std_7\"] = data[\"Close\"].rolling(window=7).std().shift(1)\n",
    "    data[\"Upper_Bollinger\"] = data[\"Rolling_Mean_7\"] + 2 * data[\"Rolling_Std_7\"]\n",
    "    data[\"Lower_Bollinger\"] = data[\"Rolling_Mean_7\"] - 2 * data[\"Rolling_Std_7\"]\n",
    "\n",
    "    return data.dropna()"
   ]
  },
  {
   "cell_type": "code",
   "execution_count": 4,
   "metadata": {},
   "outputs": [],
   "source": [
    "# SVM prediction function\n",
    "def svm_prediction(ticker, date, start_date=\"2018-01-01\", end_date=\"2020-01-01\"):\n",
    "    # Fetch historical data from yfinance\n",
    "    df = fetch_data(ticker, start_date, end_date)\n",
    "    df.index = pd.to_datetime(df.index)\n",
    "    df.reset_index(inplace=True)\n",
    "    df = df.rename(columns={\"index\": \"Date\"})\n",
    "\n",
    "    # Create features\n",
    "    df = create_features(df)\n",
    "\n",
    "    # Filter to data before the prediction date for training\n",
    "    train_data = df[df[\"Date\"] < pd.to_datetime(date)]\n",
    "    # train_data = df[df[\"Date\"] < pd.to_datetime(date).tz_localize('UTC')]\n",
    "\n",
    "\n",
    "    # Define features and target\n",
    "    X = train_data.drop(columns=[\"Date\", \"Close\"])  # Exclude non-feature columns\n",
    "    y = train_data[\"Close\"]\n",
    "\n",
    "    # Train-Test split for SVM using TimeSeriesSplit\n",
    "    tscv = TimeSeriesSplit(n_splits=5)\n",
    "    best_rmse = float(\"inf\")\n",
    "    best_model = None\n",
    "\n",
    "    for train_idx, test_idx in tscv.split(X):\n",
    "        X_train, X_test = X.iloc[train_idx], X.iloc[test_idx]\n",
    "        y_train, y_test = y.iloc[train_idx], y.iloc[test_idx]\n",
    "\n",
    "        # Define pipeline with scaling and SVM\n",
    "        pipeline = Pipeline(\n",
    "            [\n",
    "                (\"scaler\", StandardScaler()),\n",
    "                (\"svm\", SVR(C=1.0, gamma=\"scale\", kernel=\"linear\")),\n",
    "            ]\n",
    "        )\n",
    "        pipeline.fit(X_train, y_train)\n",
    "\n",
    "        # Evaluate performance\n",
    "        y_pred = pipeline.predict(X_test)\n",
    "        rmse = np.sqrt(mean_squared_error(y_test, y_pred))\n",
    "\n",
    "        if rmse < best_rmse:\n",
    "            best_rmse = rmse\n",
    "            best_model = pipeline\n",
    "\n",
    "    # Use the best model to predict the next day’s price\n",
    "    latest_data = create_features(df[df[\"Date\"] <= pd.to_datetime(date)].tail(1))\n",
    "    if latest_data.empty:\n",
    "        raise ValueError(\"Insufficient data for SVM prediction.\")\n",
    "\n",
    "    next_day_price = best_model.predict(latest_data.drop(columns=[\"Date\", \"Close\"]))[0]\n",
    "    return round(next_day_price, 2)"
   ]
  },
  {
   "cell_type": "code",
   "execution_count": 5,
   "metadata": {},
   "outputs": [
    {
     "data": {
      "text/plain": [
       "datetime.datetime(2020, 1, 2, 0, 0)"
      ]
     },
     "execution_count": 5,
     "metadata": {},
     "output_type": "execute_result"
    }
   ],
   "source": [
    "import datetime\n",
    "\n",
    "ticker = \"AAPL\"\n",
    "# date should be 2020-01-02\n",
    "date = datetime.datetime(2020, 1, 2)\n",
    "date"
   ]
  },
  {
   "cell_type": "code",
   "execution_count": 6,
   "metadata": {},
   "outputs": [
    {
     "name": "stderr",
     "output_type": "stream",
     "text": [
      "[*********************100%***********************]  1 of 1 completed\n",
      "/var/folders/d4/ggny_vpn0nv4f9ys1m85vyv80000gn/T/ipykernel_19516/2633190101.py:18: PerformanceWarning: dropping on a non-lexsorted multi-index without a level parameter may impact performance.\n",
      "  X = train_data.drop(columns=[\"Date\", \"Close\"])  # Exclude non-feature columns\n",
      "/Users/odai/repos/cs-5588-team-gamestop/.venv/lib/python3.11/site-packages/sklearn/utils/validation.py:1339: DataConversionWarning: A column-vector y was passed when a 1d array was expected. Please change the shape of y to (n_samples, ), for example using ravel().\n",
      "  y = column_or_1d(y, warn=True)\n",
      "/Users/odai/repos/cs-5588-team-gamestop/.venv/lib/python3.11/site-packages/sklearn/utils/validation.py:1339: DataConversionWarning: A column-vector y was passed when a 1d array was expected. Please change the shape of y to (n_samples, ), for example using ravel().\n",
      "  y = column_or_1d(y, warn=True)\n",
      "/Users/odai/repos/cs-5588-team-gamestop/.venv/lib/python3.11/site-packages/sklearn/utils/validation.py:1339: DataConversionWarning: A column-vector y was passed when a 1d array was expected. Please change the shape of y to (n_samples, ), for example using ravel().\n",
      "  y = column_or_1d(y, warn=True)\n",
      "/Users/odai/repos/cs-5588-team-gamestop/.venv/lib/python3.11/site-packages/sklearn/utils/validation.py:1339: DataConversionWarning: A column-vector y was passed when a 1d array was expected. Please change the shape of y to (n_samples, ), for example using ravel().\n",
      "  y = column_or_1d(y, warn=True)\n",
      "/Users/odai/repos/cs-5588-team-gamestop/.venv/lib/python3.11/site-packages/sklearn/utils/validation.py:1339: DataConversionWarning: A column-vector y was passed when a 1d array was expected. Please change the shape of y to (n_samples, ), for example using ravel().\n",
      "  y = column_or_1d(y, warn=True)\n"
     ]
    },
    {
     "ename": "ValueError",
     "evalue": "Insufficient data for SVM prediction.",
     "output_type": "error",
     "traceback": [
      "\u001b[0;31m---------------------------------------------------------------------------\u001b[0m",
      "\u001b[0;31mValueError\u001b[0m                                Traceback (most recent call last)",
      "Cell \u001b[0;32mIn[6], line 1\u001b[0m\n\u001b[0;32m----> 1\u001b[0m svm_forecast \u001b[38;5;241m=\u001b[39m \u001b[43msvm_prediction\u001b[49m\u001b[43m(\u001b[49m\u001b[43mticker\u001b[49m\u001b[43m,\u001b[49m\u001b[43m \u001b[49m\u001b[43mdate\u001b[49m\u001b[43m)\u001b[49m\n\u001b[1;32m      2\u001b[0m svm_forecast\n",
      "Cell \u001b[0;32mIn[4], line 50\u001b[0m, in \u001b[0;36msvm_prediction\u001b[0;34m(ticker, date, start_date, end_date)\u001b[0m\n\u001b[1;32m     48\u001b[0m latest_data \u001b[38;5;241m=\u001b[39m create_features(df[df[\u001b[38;5;124m\"\u001b[39m\u001b[38;5;124mDate\u001b[39m\u001b[38;5;124m\"\u001b[39m] \u001b[38;5;241m<\u001b[39m\u001b[38;5;241m=\u001b[39m pd\u001b[38;5;241m.\u001b[39mto_datetime(date)]\u001b[38;5;241m.\u001b[39mtail(\u001b[38;5;241m1\u001b[39m))\n\u001b[1;32m     49\u001b[0m \u001b[38;5;28;01mif\u001b[39;00m latest_data\u001b[38;5;241m.\u001b[39mempty:\n\u001b[0;32m---> 50\u001b[0m     \u001b[38;5;28;01mraise\u001b[39;00m \u001b[38;5;167;01mValueError\u001b[39;00m(\u001b[38;5;124m\"\u001b[39m\u001b[38;5;124mInsufficient data for SVM prediction.\u001b[39m\u001b[38;5;124m\"\u001b[39m)\n\u001b[1;32m     52\u001b[0m next_day_price \u001b[38;5;241m=\u001b[39m best_model\u001b[38;5;241m.\u001b[39mpredict(latest_data\u001b[38;5;241m.\u001b[39mdrop(columns\u001b[38;5;241m=\u001b[39m[\u001b[38;5;124m\"\u001b[39m\u001b[38;5;124mDate\u001b[39m\u001b[38;5;124m\"\u001b[39m, \u001b[38;5;124m\"\u001b[39m\u001b[38;5;124mClose\u001b[39m\u001b[38;5;124m\"\u001b[39m]))[\u001b[38;5;241m0\u001b[39m]\n\u001b[1;32m     53\u001b[0m \u001b[38;5;28;01mreturn\u001b[39;00m \u001b[38;5;28mround\u001b[39m(next_day_price, \u001b[38;5;241m2\u001b[39m)\n",
      "\u001b[0;31mValueError\u001b[0m: Insufficient data for SVM prediction."
     ]
    }
   ],
   "source": [
    "svm_forecast = svm_prediction(ticker, date)\n",
    "svm_forecast"
   ]
  }
 ],
 "metadata": {
  "kernelspec": {
   "display_name": ".venv",
   "language": "python",
   "name": "python3"
  },
  "language_info": {
   "codemirror_mode": {
    "name": "ipython",
    "version": 3
   },
   "file_extension": ".py",
   "mimetype": "text/x-python",
   "name": "python",
   "nbconvert_exporter": "python",
   "pygments_lexer": "ipython3",
   "version": "3.11.6"
  }
 },
 "nbformat": 4,
 "nbformat_minor": 2
}
