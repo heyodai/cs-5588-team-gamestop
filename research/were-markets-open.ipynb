{
 "cells": [
  {
   "cell_type": "markdown",
   "metadata": {},
   "source": [
    "The goal of this notebook is to create a CSV tracking when markets were open during the period from `2018-01-01` to `2021-12-31` and write it to a CSV.\n",
    "\n",
    "We have an API running at `localhost:8000`."
   ]
  },
  {
   "cell_type": "code",
   "execution_count": 4,
   "metadata": {},
   "outputs": [
    {
     "data": {
      "text/plain": [
       "['2018-01-01', '2018-01-02', '2018-01-03', '2018-01-04', '2018-01-05']"
      ]
     },
     "execution_count": 4,
     "metadata": {},
     "output_type": "execute_result"
    }
   ],
   "source": [
    "import datetime\n",
    "\n",
    "# Start date\n",
    "start_date = datetime.date(2018, 1, 1)\n",
    "# End date\n",
    "end_date = datetime.date(2021, 12, 31)\n",
    "\n",
    "# Increment the date by one day each iteration\n",
    "current_date = start_date\n",
    "dates = []\n",
    "while current_date <= end_date:\n",
    "\n",
    "    # Append as string\n",
    "    dates.append(str(current_date))\n",
    "    current_date += datetime.timedelta(days=1)\n",
    "\n",
    "dates[:5]"
   ]
  },
  {
   "cell_type": "code",
   "execution_count": 10,
   "metadata": {},
   "outputs": [
    {
     "name": "stderr",
     "output_type": "stream",
     "text": [
      "100%|██████████| 1461/1461 [09:54<00:00,  2.46it/s]\n"
     ]
    },
    {
     "data": {
      "text/html": [
       "<div>\n",
       "<style scoped>\n",
       "    .dataframe tbody tr th:only-of-type {\n",
       "        vertical-align: middle;\n",
       "    }\n",
       "\n",
       "    .dataframe tbody tr th {\n",
       "        vertical-align: top;\n",
       "    }\n",
       "\n",
       "    .dataframe thead th {\n",
       "        text-align: right;\n",
       "    }\n",
       "</style>\n",
       "<table border=\"1\" class=\"dataframe\">\n",
       "  <thead>\n",
       "    <tr style=\"text-align: right;\">\n",
       "      <th></th>\n",
       "      <th>date</th>\n",
       "      <th>was_open</th>\n",
       "    </tr>\n",
       "  </thead>\n",
       "  <tbody>\n",
       "    <tr>\n",
       "      <th>0</th>\n",
       "      <td>2018-01-01</td>\n",
       "      <td>False</td>\n",
       "    </tr>\n",
       "    <tr>\n",
       "      <th>1</th>\n",
       "      <td>2018-01-02</td>\n",
       "      <td>True</td>\n",
       "    </tr>\n",
       "    <tr>\n",
       "      <th>2</th>\n",
       "      <td>2018-01-03</td>\n",
       "      <td>True</td>\n",
       "    </tr>\n",
       "    <tr>\n",
       "      <th>3</th>\n",
       "      <td>2018-01-04</td>\n",
       "      <td>True</td>\n",
       "    </tr>\n",
       "    <tr>\n",
       "      <th>4</th>\n",
       "      <td>2018-01-05</td>\n",
       "      <td>True</td>\n",
       "    </tr>\n",
       "  </tbody>\n",
       "</table>\n",
       "</div>"
      ],
      "text/plain": [
       "         date was_open\n",
       "0  2018-01-01    False\n",
       "1  2018-01-02     True\n",
       "2  2018-01-03     True\n",
       "3  2018-01-04     True\n",
       "4  2018-01-05     True"
      ]
     },
     "execution_count": 10,
     "metadata": {},
     "output_type": "execute_result"
    }
   ],
   "source": [
    "# Query API endpoint at localhost:8000/AAPL/{date}\n",
    "import requests\n",
    "import pandas as pd\n",
    "from tqdm import tqdm\n",
    "\n",
    "url = \"http://localhost:8000/AAPL/\"\n",
    "df = pd.DataFrame(columns=[\"date\", \"was_open\"])\n",
    "\n",
    "for date in tqdm(dates):\n",
    "    response = requests.get(url + date)\n",
    "    \n",
    "    if response.status_code == 403:\n",
    "        new_row = pd.DataFrame([{\"date\": date, \"was_open\": False}])\n",
    "    else:\n",
    "        new_row = pd.DataFrame([{\"date\": date, \"was_open\": True}])\n",
    "        \n",
    "    df = pd.concat([df, new_row], ignore_index=True)\n",
    "    \n",
    "df.head()\n"
   ]
  },
  {
   "cell_type": "code",
   "execution_count": 11,
   "metadata": {},
   "outputs": [],
   "source": [
    "df.to_csv(\"were-markets-open.csv\", index=False)"
   ]
  }
 ],
 "metadata": {
  "kernelspec": {
   "display_name": ".venv",
   "language": "python",
   "name": "python3"
  },
  "language_info": {
   "codemirror_mode": {
    "name": "ipython",
    "version": 3
   },
   "file_extension": ".py",
   "mimetype": "text/x-python",
   "name": "python",
   "nbconvert_exporter": "python",
   "pygments_lexer": "ipython3",
   "version": "3.11.6"
  }
 },
 "nbformat": 4,
 "nbformat_minor": 2
}
