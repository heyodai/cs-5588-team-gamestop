{
 "cells": [
  {
   "cell_type": "code",
   "execution_count": null,
   "metadata": {},
   "outputs": [],
   "source": [
    "import ollama"
   ]
  },
  {
   "cell_type": "code",
   "execution_count": null,
   "metadata": {},
   "outputs": [],
   "source": [
    "class LanguageModel:\n",
    "    def __init__(self, model=\"llama3.2:3b\"):\n",
    "        \"\"\"\n",
    "        Initialize the language model\n",
    "\n",
    "        Parameters\n",
    "        ----------\n",
    "        model : str\n",
    "            The name of the language model to use. Default is \"llama3.2:3b\".\n",
    "            See: https://ollama.com/library/llama3.2\n",
    "        \"\"\"\n",
    "        self.model = model\n",
    "\n",
    "    def query(self, prompt):\n",
    "        \"\"\"\n",
    "        Execute a query on the language model.\n",
    "        \n",
    "        Parameters\n",
    "        ----------\n",
    "        prompt : str\n",
    "            The prompt to query the language model with.\n",
    "            \n",
    "        Returns\n",
    "        -------\n",
    "        str\n",
    "            The response from the language model\n",
    "        \"\"\"\n",
    "        response = ollama.chat(\n",
    "            model=self.model,\n",
    "            messages=[\n",
    "                {\n",
    "                    \"role\": \"user\",\n",
    "                    \"content\": prompt,\n",
    "                },\n",
    "            ],\n",
    "        )\n",
    "\n",
    "        return response[\"message\"][\"content\"]\n",
    "\n",
    "    def extract_factors(self, stock_ticker, news_content, k=5):\n",
    "        \"\"\"\n",
    "        Query the language model to extract the top k factors that may affect the stock price of a given stock from the given news content.\n",
    "\n",
    "        Parameters\n",
    "        ----------\n",
    "        stock_ticker : str\n",
    "            The stock ticker of the stock.\n",
    "        news_content : str\n",
    "            The news content to extract factors from.\n",
    "        k : int\n",
    "            The number of factors to extract. Default is 5.\n",
    "\n",
    "        Returns\n",
    "        -------\n",
    "        str\n",
    "            The extracted factors.\n",
    "        \"\"\"\n",
    "\n",
    "        prompt = f\"\"\"\n",
    "        Please extract the top {k} factors that may affect the stock price of {stock_ticker} from the following news.\n",
    "        \n",
    "        {news_content}\n",
    "        \"\"\"\n",
    "\n",
    "        return self.query(prompt)"
   ]
  }
 ],
 "metadata": {
  "kernelspec": {
   "display_name": ".venv",
   "language": "python",
   "name": "python3"
  },
  "language_info": {
   "name": "python",
   "version": "3.11.6"
  }
 },
 "nbformat": 4,
 "nbformat_minor": 2
}
