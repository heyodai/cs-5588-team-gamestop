{
 "cells": [
  {
   "cell_type": "code",
   "execution_count": 2,
   "metadata": {},
   "outputs": [],
   "source": [
    "# %%\n",
    "from string import Template\n",
    "import ollama\n",
    "import pandas as pd\n",
    "\n",
    "# # Local imports\n",
    "from market import Market\n",
    "from portfolio import Portfolio"
   ]
  },
  {
   "cell_type": "code",
   "execution_count": null,
   "metadata": {},
   "outputs": [],
   "source": [
    "# %%\n",
    "DATASET_FP = \"/Users/odai/repos/cs-5588-team-gamestop/datasets/CMIN-US\"\n",
    "STARTING_FUNDS = 10_000  # USD\n",
    "# LLM_MODEL = \"llama3.2:3b\"\n",
    "LLM_MODEL = \"qwen2.5:1.5b\"\n",
    "\n",
    "DATE = \"2021-01-01\""
   ]
  },
  {
   "cell_type": "code",
   "execution_count": null,
   "metadata": {},
   "outputs": [],
   "source": [
    "# %%\n",
    "class LanguageModel:\n",
    "    def __init__(self, model_name, template_fp):\n",
    "        self.model = model_name\n",
    "        with open(template_fp, \"r\") as f:\n",
    "            self.prompt_template = Template(f.read())\n",
    "\n",
    "    def get_prompt(\n",
    "        self,\n",
    "        date,\n",
    "        market_json,\n",
    "        funds,\n",
    "        portfolio_makeup,\n",
    "        market_factors,\n",
    "        world_factors,\n",
    "        risk_tolerance,\n",
    "    ):\n",
    "        return self.prompt_template.substitute(\n",
    "            date=date,\n",
    "            market_json=market_json,  # TODO: Add statistical model inputs\n",
    "            funds=funds,\n",
    "            portfolio=portfolio_makeup,\n",
    "            tolerance=risk_tolerance,\n",
    "            market_factors=\"\",  # TODO: Add market factors\n",
    "            world_factors=\"\",  # TODO: Add world factors\n",
    "        )\n",
    "\n",
    "    def execute_prompt(self, prompt):\n",
    "        response = ollama.chat(\n",
    "            model=self.model,\n",
    "            messages=[\n",
    "                {\n",
    "                    \"role\": \"user\",\n",
    "                    \"content\": prompt,\n",
    "                },\n",
    "            ],\n",
    "        )\n",
    "\n",
    "        return response[\"message\"][\"content\"]\n",
    "    \n",
    "    def get_stat_model_prediction(self, date):\n",
    "        path = \"/Users/odai/repos/cs-5588-team-gamestop/datasets/stat-model-predictions-2021\"\n",
    "        return pd.read_csv(f\"{path}/{date}.csv\")"
   ]
  },
  {
   "cell_type": "code",
   "execution_count": 3,
   "metadata": {},
   "outputs": [
    {
     "data": {
      "text/html": [
       "<div>\n",
       "<style scoped>\n",
       "    .dataframe tbody tr th:only-of-type {\n",
       "        vertical-align: middle;\n",
       "    }\n",
       "\n",
       "    .dataframe tbody tr th {\n",
       "        vertical-align: top;\n",
       "    }\n",
       "\n",
       "    .dataframe thead th {\n",
       "        text-align: right;\n",
       "    }\n",
       "</style>\n",
       "<table border=\"1\" class=\"dataframe\">\n",
       "  <thead>\n",
       "    <tr style=\"text-align: right;\">\n",
       "      <th></th>\n",
       "      <th>ticker</th>\n",
       "      <th>predicted_price</th>\n",
       "    </tr>\n",
       "  </thead>\n",
       "  <tbody>\n",
       "    <tr>\n",
       "      <th>0</th>\n",
       "      <td>AAPL</td>\n",
       "      <td>132.54</td>\n",
       "    </tr>\n",
       "    <tr>\n",
       "      <th>1</th>\n",
       "      <td>BAC</td>\n",
       "      <td>30.39</td>\n",
       "    </tr>\n",
       "    <tr>\n",
       "      <th>2</th>\n",
       "      <td>CVX</td>\n",
       "      <td>84.66</td>\n",
       "    </tr>\n",
       "    <tr>\n",
       "      <th>3</th>\n",
       "      <td>JNJ</td>\n",
       "      <td>158.67</td>\n",
       "    </tr>\n",
       "    <tr>\n",
       "      <th>4</th>\n",
       "      <td>WMT</td>\n",
       "      <td>48.95</td>\n",
       "    </tr>\n",
       "  </tbody>\n",
       "</table>\n",
       "</div>"
      ],
      "text/plain": [
       "  ticker  predicted_price\n",
       "0   AAPL           132.54\n",
       "1    BAC            30.39\n",
       "2    CVX            84.66\n",
       "3    JNJ           158.67\n",
       "4    WMT            48.95"
      ]
     },
     "execution_count": 3,
     "metadata": {},
     "output_type": "execute_result"
    }
   ],
   "source": [
    "path = \"/Users/odai/repos/cs-5588-team-gamestop/datasets/stat-model-predictions-2021\"\n",
    "date = \"2021-01-04\"\n",
    "\n",
    "df = pd.read_csv(f\"{path}/{date}.csv\")\n",
    "df.head()"
   ]
  },
  {
   "cell_type": "code",
   "execution_count": null,
   "metadata": {},
   "outputs": [],
   "source": [
    "market = Market(DATASET_FP)\n",
    "portfolio = Portfolio()\n",
    "portfolio.add_funds(STARTING_FUNDS)\n",
    "\n",
    "llm = LanguageModel(LLM_MODEL)\n",
    "prompt = llm.get_prompt(\n",
    "    DATE,\n",
    "    market.get_info(date=DATE),\n",
    "    portfolio.funds,\n",
    "    portfolio.get_makeup(),\n",
    "    market_factors=None,\n",
    "    world_factors=None,\n",
    "    risk_tolerance=\"LOW\",\n",
    ")\n",
    "\n",
    "resp = llm.execute_prompt(prompt)\n",
    "print(resp)"
   ]
  }
 ],
 "metadata": {
  "kernelspec": {
   "display_name": ".venv",
   "language": "python",
   "name": "python3"
  },
  "language_info": {
   "codemirror_mode": {
    "name": "ipython",
    "version": 3
   },
   "file_extension": ".py",
   "mimetype": "text/x-python",
   "name": "python",
   "nbconvert_exporter": "python",
   "pygments_lexer": "ipython3",
   "version": "3.11.6"
  }
 },
 "nbformat": 4,
 "nbformat_minor": 2
}
