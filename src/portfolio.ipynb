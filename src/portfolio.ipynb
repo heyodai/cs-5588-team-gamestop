{
 "cells": [
  {
   "cell_type": "code",
   "execution_count": null,
   "metadata": {},
   "outputs": [],
   "source": [
    "# import os\n",
    "\n",
    "# path = \"/Users/odai/repos/cs_5588_team_gamestop/data/CMIN/CMIN_US/price/raw\"\n",
    "\n",
    "# tickers = []\n",
    "# for root, dirs, files in os.walk(path):\n",
    "#     for file in files:\n",
    "#         if file.endswith(\".csv\"):\n",
    "#             tickers.append(file.split(\".\")[0])\n",
    "\n",
    "# # transform to uppercase\n",
    "# tickers = [ticker.upper() for ticker in tickers]\n",
    "\n",
    "# # sort alphabetically\n",
    "# tickers.sort()\n",
    "\n",
    "# i = 1\n",
    "# for ticker in tickers:\n",
    "#     # print(f\"{ticker} = {i}\")\n",
    "#     i += 1"
   ]
  },
  {
   "cell_type": "code",
   "execution_count": 7,
   "metadata": {},
   "outputs": [],
   "source": [
    "from enum import Enum"
   ]
  },
  {
   "cell_type": "code",
   "execution_count": 8,
   "metadata": {},
   "outputs": [],
   "source": [
    "class Tickers(Enum):\n",
    "    AAPL = 1\n",
    "    ABBV = 2\n",
    "    ABT = 3\n",
    "    ACN = 4\n",
    "    ADBE = 5\n",
    "    ADP = 6\n",
    "    AEP = 7\n",
    "    AMT = 8\n",
    "    AMZN = 9\n",
    "    APD = 10\n",
    "    ASML = 11\n",
    "    AVGO = 12\n",
    "    AWK = 13\n",
    "    BA = 14\n",
    "    BABA = 15\n",
    "    BAC = 16\n",
    "    BBL = 17\n",
    "    BHP = 18\n",
    "    BP = 19\n",
    "    BRK_A = 20\n",
    "    C_PJ = 21\n",
    "    CAT = 22\n",
    "    CCI = 23\n",
    "    CHTR = 24\n",
    "    CMCSA = 25\n",
    "    COP = 26\n",
    "    COST = 27\n",
    "    CSCO = 28\n",
    "    CTA_PB = 29\n",
    "    CVX = 30\n",
    "    D = 31\n",
    "    DE = 32\n",
    "    DEO = 33\n",
    "    DHR = 34\n",
    "    DIS = 35\n",
    "    DLR = 36\n",
    "    DUK = 37\n",
    "    ECL = 38\n",
    "    EL = 39\n",
    "    ENB = 40\n",
    "    EQIX = 41\n",
    "    EQNR = 42\n",
    "    EXC = 43\n",
    "    FB = 44\n",
    "    FCX = 45\n",
    "    GE = 46\n",
    "    GOOG = 47\n",
    "    HD = 48\n",
    "    HON = 49\n",
    "    JD = 50\n",
    "    JNJ = 51\n",
    "    JPM = 52\n",
    "    KO = 53\n",
    "    LLY = 54\n",
    "    LOW = 55\n",
    "    MA = 56\n",
    "    MCD = 57\n",
    "    MMM = 58\n",
    "    MS = 59\n",
    "    MSFT = 60\n",
    "    NEE = 61\n",
    "    NEM = 62\n",
    "    NFLX = 63\n",
    "    NGG = 64\n",
    "    NKE = 65\n",
    "    NVDA = 66\n",
    "    NVO = 67\n",
    "    NVS = 68\n",
    "    O = 69\n",
    "    ORCL = 70\n",
    "    PEP = 71\n",
    "    PFE = 72\n",
    "    PG = 73\n",
    "    PLD = 74\n",
    "    PM = 75\n",
    "    PSA = 76\n",
    "    PTR = 77\n",
    "    PYPL = 78\n",
    "    RDS_B = 79\n",
    "    RIO = 80\n",
    "    RTX = 81\n",
    "    SBAC = 82\n",
    "    SBUX = 83\n",
    "    SCHW = 84\n",
    "    SHW = 85\n",
    "    SNAP = 86\n",
    "    SNP = 87\n",
    "    SO = 88\n",
    "    SPG_PJ = 89\n",
    "    SRE = 90\n",
    "    T = 91\n",
    "    TGT = 92\n",
    "    TM = 93\n",
    "    TMO = 94\n",
    "    TMUS = 95\n",
    "    TSLA = 96\n",
    "    TSM = 97\n",
    "    TTE = 98\n",
    "    UL = 99\n",
    "    UNH = 100\n",
    "    UNP = 101\n",
    "    UPS = 102\n",
    "    V = 103\n",
    "    VALE = 104\n",
    "    VZ = 105\n",
    "    WELL = 106\n",
    "    WFC_PL = 107\n",
    "    WMT = 108\n",
    "    XEL = 109\n",
    "    XOM = 110"
   ]
  },
  {
   "cell_type": "code",
   "execution_count": 10,
   "metadata": {},
   "outputs": [
    {
     "name": "stdout",
     "output_type": "stream",
     "text": [
      "AAPL\n",
      "1\n"
     ]
    }
   ],
   "source": [
    "ticker = Tickers.AAPL\n",
    "print(ticker.name)\n",
    "print(ticker.value)"
   ]
  },
  {
   "cell_type": "code",
   "execution_count": null,
   "metadata": {},
   "outputs": [],
   "source": [
    "class Stock:\n",
    "    ..."
   ]
  },
  {
   "cell_type": "code",
   "execution_count": null,
   "metadata": {},
   "outputs": [],
   "source": [
    "class Portfolio:\n",
    "    ..."
   ]
  },
  {
   "cell_type": "code",
   "execution_count": null,
   "metadata": {},
   "outputs": [],
   "source": [
    "portfolio = Portfolio()\n",
    "\n",
    "portfolio.get_value()\n",
    "\n",
    "portfolio.aapl.price(date=\"2021-01-01\")\n",
    "portfolio.aapl.news(date=\"2021-01-01\")\n",
    "\n",
    "portfolio.aapl.buy(10)\n",
    "portfolio.aapl.sell(5)"
   ]
  }
 ],
 "metadata": {
  "kernelspec": {
   "display_name": ".venv",
   "language": "python",
   "name": "python3"
  },
  "language_info": {
   "codemirror_mode": {
    "name": "ipython",
    "version": 3
   },
   "file_extension": ".py",
   "mimetype": "text/x-python",
   "name": "python",
   "nbconvert_exporter": "python",
   "pygments_lexer": "ipython3",
   "version": "3.11.6"
  }
 },
 "nbformat": 4,
 "nbformat_minor": 2
}
